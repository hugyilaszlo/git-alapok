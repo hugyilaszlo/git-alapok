{
 "metadata": {
  "name": "",
  "signature": "sha256:a5b6a63cd959ac80b8fc10d85ee2dfd94fc431f6a674210e1a62c21fe147f10e"
 },
 "nbformat": 3,
 "nbformat_minor": 0,
 "worksheets": [
  {
   "cells": [
    {
     "cell_type": "markdown",
     "metadata": {},
     "source": [
      "# Mi is az a Git?"
     ]
    },
    {
     "cell_type": "markdown",
     "metadata": {},
     "source": [
      "A Git egy verzi\u00f3kezel\u0151, arra szolg\u00e1l, hogy fileok (programok, dokument\u00e1ci\u00f3k, stb) k\u00fcl\u00f6nb\u00f6z\u0151 verzi\u00f3it kord\u00e1ban tartsa, elk\u00f6nyvelje, t\u00e1rolja \u00e9s megossza. R\u00f6viden \u00f6sszefoglalva a Git annyit csin\u00e1l, hogy amikor azt mondjuk neki (commit), akkor egy directoryr\u00f3l csin\u00e1l mag\u00e1nak egy helyi adatb\u00e1zist a .git nev\u0171 k\u00f6nyvt\u00e1rba. Ezekkel az adatb\u00e1zisokkal:\n",
      "\n",
      "- nyomon tudja k\u00f6vetni, hogy mikor hogyan v\u00e1ltozott a k\u00f6nyvt\u00e1runk,\n",
      "- vissza tudja \u00e1ll\u00edtani b\u00e1rmelyik kor\u00e1bbi (commit-olt) \u00e1llapot\u00e1t a k\u00f6nyvt\u00e1rnak,\n",
      "- szinkroniz\u00e1lni tud egy m\u00e1sik g\u00e9pen lev\u0151 hasonl\u00f3 k\u00f6nyvt\u00e1rral, k\u00f6zben intelligensen \u00e1tvezeti a v\u00e1ltoz\u00e1sokat, illetve jelez, ha nem megy neki.\n",
      "\n",
      "A Gitnek megvan az a tov\u00e1bbi el\u0151nye, hogy mindezt tudja titkos\u00edtott csatorn\u00e1n (ssh-n kereszt\u00fcl) csin\u00e1lni, ezt fogjuk mi haszn\u00e1lni ebben a le\u00edr\u00e1sban.\n",
      "\n",
      "A szeml\u00e9letbeli k\u00fcl\u00f6nbs\u00e9g ahhoz k\u00e9pest ahogy eddig \u00e9lt\u00fcnk az, hogy a dolgaink nem akkor vannak elmentve ha megnyomtuk az editorban a save gombot, hanem csak akkor, ha a git adatb\u00e1zisunkba is beker\u00fcltek (commit). A dolgok teh\u00e1t r\u00f6viden a k\u00f6vetkez\u0151k\u00e9pp fognak kin\u00e9zni: friss\u00edtj\u00fck a helyi adatb\u00e1zisunkat a k\u00f6zponti Szerver nev\u0171 g\u00e9p\u00e9r\u0151l (arra az esetre gondolva, ha valaki m\u00e1s tov\u00e1bb\u00edrta az\u00f3ta, hogy l\u00e1ttuk; pull). Ezut\u00e1n dolgozunk a filejainkon. Ha eljutottunk egy olyan \u00e1llapotba amit \u00e9rdemes menteni, akkor megmondjuk melyik filet vegye figyelembe (add, vagy stage), majd mentj\u00fck az adatb\u00e1zisba (commit). V\u00e9g\u00fcl pedig felt\u00f6ltj\u00fck a m\u00f3dos\u00edtott adatb\u00e1zist a Szerver-re (push)."
     ]
    },
    {
     "cell_type": "markdown",
     "metadata": {},
     "source": [
      "#Telep\u00edt\u00e9s Linuxra"
     ]
    },
    {
     "cell_type": "markdown",
     "metadata": {},
     "source": [
      "Linuxra a k\u00f6vetkez\u0151ket javaslom telep\u00edteni: git-core, gitk, git-gui, \u00e9s ami m\u00e9g kell ezeknek. Lehet csomagkezel\u0151b\u0151l vagy:"
     ]
    },
    {
     "cell_type": "code",
     "collapsed": false,
     "input": [
      "! sudo apt-get install git-core\n",
      "! sudo apt-get install gitk\n",
      "! sudo apt-get install git-gui"
     ],
     "language": "python",
     "metadata": {},
     "outputs": [
      {
       "output_type": "stream",
       "stream": "stdout",
       "text": [
        "[sudo] hugyilaszlo jelszava: "
       ]
      }
     ]
    },
    {
     "cell_type": "markdown",
     "metadata": {},
     "source": [
      "El\u0151fordulhatnak olyan esetek, amikor nem teszi be a men\u00fcbe  a Gitet, de ind\u00edthat\u00f3 termin\u00e1lb\u00f3l."
     ]
    },
    {
     "cell_type": "markdown",
     "metadata": {},
     "source": [
      "#Haszn\u00e1lat\n",
      "#Linuxon"
     ]
    },
    {
     "cell_type": "markdown",
     "metadata": {},
     "source": [
      "A le\u00edr\u00e1sban lesz majd egy adminisztr\u00e1tor, aki egy Szerver nev\u0171 g\u00e9p k\u00f6zponti ssh adatb\u00e1zis\u00e1t fogja adminisztr\u00e1lni. Ez lehet k\u00fcl\u00f6nb\u00f6z\u0151 a Szerver rendszergazd\u00e1j\u00e1t\u00f3l. Miel\u0151tt a Git-hez hozz\u00e1sz\u00f3ln\u00e1nk, sz\u00fcks\u00e9g\u00fcnk lesz egy ssh kulcsra, ezzel fog a k\u00e9s\u0151bbiekben a Szerver nev\u0171 g\u00e9p k\u00f6zponti adatb\u00e1zisa azonos\u00edtani minket. Akinek van m\u00e1r ilyen, az a publikus kulcs\u00e1t k\u00fcldje el az adminisztr\u00e1tornak emailben. Nyisson egy termin\u00e1lt linuxon ahogy szokta. Ezekbe be kell \u00edrni, hogy:\n"
     ]
    },
    {
     "cell_type": "code",
     "collapsed": false,
     "input": [
      "!ssh-keygen -C 'sajat@email.cimunk'"
     ],
     "language": "python",
     "metadata": {},
     "outputs": []
    },
    {
     "cell_type": "markdown",
     "metadata": {},
     "source": [
      "Ez felaj\u00e1nlja, hogy a home k\u00f6nyvt\u00e1ron bel\u00fcl a .ssh/ -ba tegye a kulcsot, ezt fogadjuk el. (Ha itt van m\u00e1r egy id_rsa illetve id_rsa.pub nev\u0171 kulcs, akkor NE \u00edrjuk fel\u00fcl, hanem emailben k\u00fcldj\u00fck el az adminisztr\u00e1tornak az itt m\u00e1r r\u00e9gebbr\u0151l meglev\u0151 id_rsa.pub filet.) Egy jelsz\u00f3t is megadhatunk, de \u00fcresen enterrel is el lehet k\u00fcldeni (k\u00e9tszer). K\u00e9t file j\u00f6n \u00edgy l\u00e9tre a .ssh k\u00f6nyvt\u00e1rban, pontosabban:"
     ]
    },
    {
     "cell_type": "markdown",
     "metadata": {},
     "source": [
      "~/.ssh/id_rsa \u00e9s id_rsa.pub"
     ]
    },
    {
     "cell_type": "markdown",
     "metadata": {},
     "source": [
      "Az id_rsa file a priv\u00e1t kulcsunk, vigy\u00e1zzunk r\u00e1 mint a szem\u00fcnk f\u00e9ny\u00e9re, senki sem l\u00e1thatja soha az \u00e9letben. A dolog csak akkor fog m\u0171k\u00f6dni, ha a priv\u00e1t kulcs az el\u0151bbi k\u00f6nyvt\u00e1rakban van, \u00e9s id_rsa-nak h\u00edvj\u00e1k. Az id_rsa.pub file a publikus kulcsunk, ezt b\u00e1rki l\u00e1thatja. Ezt kell elk\u00fcldeni az adminisztr\u00e1tornak emailben, \u0151 beteszi a Szerver-en a megfelel\u0151 helyre (ssh rep\u00f3 adminisztr\u00e1l\u00e1s\u00e1t l\u00e1sd lejjebb), e kulcs \u00e9s mindenki saj\u00e1t priv\u00e1t kulcs\u00e1nak \u00f6sszehasonl\u00edt\u00e1sa alapj\u00e1n fog mindenkit enged\u00e9lyezni a Szerver adatb\u00e1zisa."
     ]
    },
    {
     "cell_type": "markdown",
     "metadata": {},
     "source": [
      "#Parancssorb\u00f3l \n",
      "\n"
     ]
    },
    {
     "cell_type": "markdown",
     "metadata": {},
     "source": [
      "Az al\u00e1bbiak mind m\u0171k\u00f6dnek linux \u00e9s Windows alatt is. Linuxban egy termin\u00e1lt kell k\u00e9rni, Windowsban a Git bash-t.\n",
      "\n",
      "El\u0151sz\u00f6r is megmondjuk a Git-nek, kik is vagyunk:\n"
     ]
    },
    {
     "cell_type": "code",
     "collapsed": false,
     "input": [
      "! git config --global user.name \"Saj\u00e1t Nev\u00fcnk\"\n",
      "! git config --global user.email \"saj\u00e1t@email.c\u00edm\u00fcnk\" "
     ],
     "language": "python",
     "metadata": {},
     "outputs": []
    },
    {
     "cell_type": "markdown",
     "metadata": {},
     "source": [
      "Ezut\u00e1n Git adatb\u00e1zist szeretn\u00e9nk. Git adatb\u00e1zis mindig egy teljes k\u00f6nyvt\u00e1rhoz (alk\u00f6nyvt\u00e1rakkal egy\u00fctt) k\u00e9sz\u00fcl. Adatb\u00e1zisunk k\u00e9tf\u00e9lek\u00e9pp lehet: szerz\u00fcnk egyet, vagy csin\u00e1lunk egyet a saj\u00e1t k\u00f6nyvt\u00e1runkr\u00f3l.\n",
      "\n",
      "Git adatb\u00e1zist csin\u00e1lni egyszer\u0171: a k\u00edv\u00e1nt k\u00f6nyvt\u00e1rban azt mondjuk, hogy:"
     ]
    },
    {
     "cell_type": "code",
     "collapsed": false,
     "input": [
      "! git init"
     ],
     "language": "python",
     "metadata": {},
     "outputs": []
    },
    {
     "cell_type": "raw",
     "metadata": {},
     "source": [
      "Ez l\u00e9trehozza a k\u00f6nyvt\u00e1runkban a .git/ adatb\u00e1zist.\n",
      "Szerezni is egyszer\u0171. Mi egy Szerver nev\u0171 g\u00e9p\u00e9r\u0151l ssh-n kereszt\u00fcl fogjuk hozni-vinni a cuccainkat, de a Git m\u0171k\u00f6dik http-n, rsync-en, \u00e9s egy saj\u00e1t git protokollj\u00e1n kereszt\u00fcl is. Feltessz\u00fck, hogy ezen a szerveren van m\u00e1r egy proba nev\u0171 adatb\u00e1zis. Amikor el\u0151sz\u00f6r szedj\u00fck le a proba nev\u0171 adatb\u00e1zist,"
     ]
    },
    {
     "cell_type": "code",
     "collapsed": false,
     "input": [
      "! git clone projfelh@valami.szerver.hu:proba "
     ],
     "language": "python",
     "metadata": {},
     "outputs": []
    },
    {
     "cell_type": "markdown",
     "metadata": {},
     "source": [
      "Ez l\u00e9trehozza a proba nev\u0171 k\u00f6nyvt\u00e1rat a proba project filejaival, \u00e9s egy .git k\u00f6nyvt\u00e1rral, ami a proba teljes adatb\u00e1zis\u00e1t tartalmazza.\n",
      "\n",
      "Van teh\u00e1t egy k\u00f6nyvt\u00e1runk egy git adatb\u00e1zissal. Ebben a k\u00f6nyvt\u00e1rban m\u00f3dos\u00edtunk valamit, elmentj\u00fck ahogy szoktuk a munk\u00e1nkat, viszont ett\u0151l m\u00e9g nem ker\u00fcl be a Git adatb\u00e1zis\u00e1ba. Ehhez el\u0151sz\u00f6r ki kell jel\u00f6ln\u00fcnk, hogy mely fileokat aj\u00e1nljuk a Git figyelm\u00e9be:"
     ]
    },
    {
     "cell_type": "code",
     "collapsed": false,
     "input": [
      "! git add file1 file2 file3"
     ],
     "language": "python",
     "metadata": {},
     "outputs": []
    },
    {
     "cell_type": "markdown",
     "metadata": {},
     "source": [
      "Ha nem szeretn\u00e9nk mindent f\u00e1jlt figyelembe venni, ha szeretn\u00e9nk az \u00f6sszes f\u00e1jt akkor:"
     ]
    },
    {
     "cell_type": "code",
     "collapsed": false,
     "input": [
      "! git add ."
     ],
     "language": "python",
     "metadata": {},
     "outputs": []
    },
    {
     "cell_type": "markdown",
     "metadata": {},
     "source": [
      "Ezut\u00e1n nagyon egyszer\u0171 parancs k\u00f6vetkezik:"
     ]
    },
    {
     "cell_type": "code",
     "collapsed": false,
     "input": [
      "! git commit"
     ],
     "language": "python",
     "metadata": {},
     "outputs": []
    },
    {
     "cell_type": "markdown",
     "metadata": {},
     "source": [
      "Itt egy editort nyit meg, amiber p\u00e1r sz\u00f3val \u00e9rdemes le\u00edrni mit dolgoztunk."
     ]
    },
    {
     "cell_type": "markdown",
     "metadata": {},
     "source": [
      "Ha ez is k\u00e9sz, akkor az editor bez\u00e1r\u00e1sa ut\u00e1n a v\u00e1ltoz\u00e1s el lett mentve a Git helyi adatb\u00e1zis\u00e1ba.\n",
      "A megv\u00e1ltozott adatb\u00e1zisunkat szeretn\u00e9nk visszat\u00f6lteni a szerverre. Ha az adatb\u00e1zisunkat kl\u00f3noz\u00e1s \u00fatj\u00e1n szerezt\u00fck akkor csak egy push parancsot kell kiadni."
     ]
    },
    {
     "cell_type": "code",
     "collapsed": false,
     "input": [
      "! git push"
     ],
     "language": "python",
     "metadata": {},
     "outputs": []
    },
    {
     "cell_type": "markdown",
     "metadata": {},
     "source": [
      "Ha a proba k\u00f6nyvt\u00e1runkr\u00f3l az adatb\u00e1zis \u00fajonan k\u00e9sz\u00fclt, akkor a Szerveren a projfelh felhaszn\u00e1l\u00f3 \u00fczmeltet\u0151j\u00e9nek elkell k\u00fcldeni emailben a proba nevet, hogy tudathassa a Szerverrel, hogy lesz egy ilyen adatb\u00e1zis rajta. Ha ez megvan akkor a k\u00f6vetkez\u0151 l\u00e9p\u00e9s:"
     ]
    },
    {
     "cell_type": "code",
     "collapsed": false,
     "input": [
      "! git remote add origin projfelh@valami.szerver.hu:proba.git\n",
      "    "
     ],
     "language": "python",
     "metadata": {},
     "outputs": []
    },
    {
     "cell_type": "markdown",
     "metadata": {},
     "source": [
      "ezzel megsp\u00f3rolhatjuk, hogy mindig ki kelljen \u00edrni a projfelh@valami.szerver.hu:proba.git -et, helyette csak annyit kell majd \u00edrni, hogy origin. Ezut\u00e1n pedig"
     ]
    },
    {
     "cell_type": "code",
     "collapsed": false,
     "input": [
      "! git push origin master"
     ],
     "language": "python",
     "metadata": {},
     "outputs": []
    },
    {
     "cell_type": "markdown",
     "metadata": {},
     "source": [
      "Ami szabad ford\u00edt\u00e1sban annyit tesz, hogy l\u00e9gy sz\u00edves az el\u0151bb defini\u00e1lt origin nev\u0171 k\u00f6zponti helyre t\u00f6ltsd fel az adatb\u00e1zisunkat. A master egyel\u0151re az egyetlen \u00e1ga a k\u00f6zponti adatb\u00e1zisnak, de ezt is be kell \u00edrni.\n",
      "    \n",
      "Ha ezut\u00e1n valamikor m\u00e1skor dolgozni szeretn\u00e9nk a k\u00f6nyvt\u00e1rban, akkor"
     ]
    },
    {
     "cell_type": "code",
     "collapsed": false,
     "input": [
      "! git pull origin master"
     ],
     "language": "python",
     "metadata": {},
     "outputs": []
    },
    {
     "cell_type": "markdown",
     "metadata": {},
     "source": [
      "az origin r\u00f6vid\u00edt\u00e9s\u0171 k\u00f6zponti adatb\u00e1zis master \u00e1g\u00e1val (egyel\u0151re ez az egyetlen) friss\u00edti a saj\u00e1t k\u00f6nyvt\u00e1runkat (ha kell).\n",
      "\n",
      "Ha sokan piszk\u00e1lt\u00e1k egyszerre a proba k\u00f6nyvt\u00e1rat \u00e9s fel-le t\u00f6lt\u00f6gettek a k\u00f6zponti adatb\u00e1zisba, a Git legt\u00f6bbsz\u00f6r olyankor is tudja friss\u00edteni a saj\u00e1t k\u00f6nyvt\u00e1runkat (pull) vagy a k\u00f6zponti k\u00f6nyvt\u00e1rat (push), kital\u00e1lja hogyan egyes\u00edtse a v\u00e1ltoz\u00e1sokat. Ha ez m\u00e9gsem siker\u00fclne, klikk ide, ide vagy ide.\n",
      "\n",
      "Ha nem vagyunk el\u00e9g b\u00e1trak, pull helyett lehet a k\u00f6vetkez\u0151ket is csin\u00e1lni:"
     ]
    },
    {
     "cell_type": "code",
     "collapsed": false,
     "input": [
      "! git fetch\n",
      "! git diff master..origin/master "
     ],
     "language": "python",
     "metadata": {},
     "outputs": []
    },
    {
     "cell_type": "markdown",
     "metadata": {},
     "source": [
      " ez nem \u00edrja \u00e1t a k\u00f6nyvt\u00e1runkban a fileokat, de megmutatja mi a k\u00fcl\u00f6nbs\u00e9g a Szerver verzi\u00f3ja \u00e9s a mi verzi\u00f3nk k\u00f6z\u00f6tt. Ha a helyzet j\u00f3, akkor"
     ]
    },
    {
     "cell_type": "code",
     "collapsed": false,
     "input": [
      "! git merge master origin/master "
     ],
     "language": "python",
     "metadata": {},
     "outputs": []
    },
    {
     "cell_type": "markdown",
     "metadata": {},
     "source": [
      "Ha el vagyunk t\u00e9vedve, vagy valami nem vil\u00e1gos, seg\u00edthetnek a k\u00f6vetkez\u0151k:"
     ]
    },
    {
     "cell_type": "code",
     "collapsed": false,
     "input": [
      "! git status "
     ],
     "language": "python",
     "metadata": {},
     "outputs": []
    },
    {
     "cell_type": "code",
     "collapsed": false,
     "input": [
      "! git diff "
     ],
     "language": "python",
     "metadata": {},
     "outputs": []
    },
    {
     "cell_type": "markdown",
     "metadata": {},
     "source": [
      "megmutatja mi v\u00e1ltozott, de m\u00e9g nem volt r\u00e1 add"
     ]
    },
    {
     "cell_type": "code",
     "collapsed": false,
     "input": [
      "! git diff --cached "
     ],
     "language": "python",
     "metadata": {},
     "outputs": []
    },
    {
     "cell_type": "markdown",
     "metadata": {},
     "source": [
      "megmutatja mi lesz commitolva"
     ]
    },
    {
     "cell_type": "code",
     "collapsed": false,
     "input": [],
     "language": "python",
     "metadata": {},
     "outputs": []
    }
   ],
   "metadata": {}
  }
 ]
}